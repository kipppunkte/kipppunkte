{
 "cells": [
  {
   "cell_type": "code",
   "execution_count": null,
   "id": "4e53466d-f650-48a9-968b-c919ab2173ef",
   "metadata": {},
   "outputs": [],
   "source": []
  },
  {
   "cell_type": "code",
   "execution_count": 33,
   "id": "df4d58ab-7670-44d8-a960-13fd4388c68e",
   "metadata": {},
   "outputs": [
    {
     "name": "stderr",
     "output_type": "stream",
     "text": [
      "ERROR:root:Gamers Finest\n",
      "ERROR:root:Apotheken-Automat\n",
      "ERROR:root:Hanfautomat\n",
      "ERROR:root:Fleisch-Automat\n",
      "ERROR:root:Route von 1a Start nach 20 Kunst im Hotel\n",
      "ERROR:root:Route von 20 Kunst im Hotel nach Gamers Finest\n",
      "ERROR:root:Gamers Finest\n"
     ]
    },
    {
     "name": "stdout",
     "output_type": "stream",
     "text": [
      "('1a', 13.0211784, 47.7975653)\n",
      "('1b', 13.0212038, 47.7975874)\n",
      "('2', 13.0216825, 47.7978928)\n",
      "('3', 13.0224713, 47.7997274)\n",
      "('4', 13.0220549, 47.7994124)\n",
      "('5', 13.021386, 47.8004857)\n",
      "('6a', 13.0206572, 47.8009885)\n",
      "('6b', 13.0204042, 47.8009308)\n",
      "('7', 13.0201764, 47.8013663)\n",
      "('8', 13.0210007, 47.8026354)\n",
      "('9', 13.0203848, 47.8031593)\n",
      "('10', 13.0202298, 47.8035138)\n",
      "('11', 13.0202308, 47.8029995)\n",
      "('12', 13.0193623, 47.8031209)\n",
      "('13a', 13.0187037, 47.8031505)\n",
      "('13b', 13.0185105, 47.8020335)\n",
      "('14', 13.0177472, 47.8025177)\n",
      "('15', 13.017429, 47.8029991)\n",
      "('16', 13.01651, 47.8033918)\n",
      "('17', 13.0165794, 47.8028302)\n",
      "('18', 13.015008, 47.8025235)\n",
      "('19', 13.0162726, 47.7999439)\n",
      "('20', 13.0182101, 47.8007908)\n",
      "('21', 13.0183052, 47.799389)\n",
      "('22', 13.0194364, 47.7988076)\n",
      "('23', 13.0198904, 47.7984053)\n",
      "('24', 13.0195971, 47.796707)\n",
      "('25', 13.0193769, 47.7959905)\n",
      "('26', 13.0196311, 47.7960105)\n",
      "('27', 13.0208809, 47.7961162)\n",
      "('28', 13.0253174, 47.795643)\n",
      "('29', 13.0251637, 47.7963392)\n",
      "('30', 13.0249492, 47.7963068)\n",
      "('31', 13.0249814, 47.7964302)\n",
      "('32', 13.0242518, 47.7964293)\n",
      "('33', 13.0240265, 47.7964797)\n",
      "('34', 13.0238548, 47.7964996)\n",
      "('35', 13.022302, 47.7971019)\n",
      "('36', 13.0217722, 47.797083)\n",
      "('37', 13.0221319, 47.7971815)\n",
      "('38', 13.0219978, 47.7972473)\n",
      "('1a', 13.0211666, 47.7975537)\n",
      "('1b', 13.0211686, 47.7975528)\n",
      "('2', 13.0216446, 47.7979149)\n",
      "('3', 13.0224391, 47.7997359)\n",
      "('7', 13.0202449, 47.8013649)\n",
      "('11', 13.0202307, 47.8030586)\n",
      "('14', 13.0176721, 47.8025001)\n",
      "('17', 13.0165242, 47.8028333)\n",
      "('19', 13.0163361, 47.799852)\n",
      "('20', 13.0182184, 47.8007673)\n",
      "('20', 13.0182184, 47.8007673)\n",
      "('21', 13.0183928, 47.7994242)\n",
      "('24', 13.019653, 47.7966933)\n",
      "('27', 13.0209395, 47.7961837)\n",
      "('28', 13.0252697, 47.7956509)\n",
      "('30', 13.0249757, 47.7963696)\n"
     ]
    },
    {
     "data": {
      "text/plain": [
       "1404"
      ]
     },
     "execution_count": 33,
     "metadata": {},
     "output_type": "execute_result"
    }
   ],
   "source": [
    "from bs4 import BeautifulSoup\n",
    "import logging\n",
    "from pathlib import Path\n",
    "soup = BeautifulSoup(Path(\"Kipppunkte.kml\").read_text(), 'lxml')\n",
    "stations = Path(\"stations.csv\").read_text().split(\"\\n\")\n",
    "stations = [_.split(\"\\t\", 4) for _ in stations if _.strip()]\n",
    "s_ids = [_[0] for _ in stations]\n",
    "placemarks = soup.find_all(\"placemark\")\n",
    "res = []\n",
    "for pm in placemarks:\n",
    "    name = pm.find(\"name\").text\n",
    "    if \" \" not in name:\n",
    "        logging.error(pm.find(\"name\").text)\n",
    "        continue\n",
    "    s_id, name = name.split(\" \", 1)\n",
    "    s_id = s_id.strip()\n",
    "    if s_id not in s_ids:\n",
    "        logging.error(pm.find(\"name\").text)\n",
    "        continue\n",
    "        \n",
    "    name = name.strip()\n",
    "    coordinates = pm.find(\"coordinates\").text\n",
    "    coordinates = list(map(float, coordinates.strip().split(\",\")[:2]))\n",
    "    print((s_id, *coordinates))\n",
    "    res.append(\"\\t\".join([s_id, str(coordinates[1]), str(coordinates[0])]))\n",
    "Path(\"stations_coords.csv\").write_text(\"\\n\".join(res))"
   ]
  },
  {
   "cell_type": "code",
   "execution_count": 23,
   "id": "f2229734-3c35-403f-b7b0-12df633d9146",
   "metadata": {},
   "outputs": [
    {
     "data": {
      "text/plain": [
       "['13.0249757', '47.7963696']"
      ]
     },
     "execution_count": 23,
     "metadata": {},
     "output_type": "execute_result"
    }
   ],
   "source": []
  },
  {
   "cell_type": "code",
   "execution_count": 16,
   "id": "b65f0034-ad2b-4d90-be2f-1a7caf466bbe",
   "metadata": {},
   "outputs": [
    {
     "data": {
      "text/plain": [
       "['1a',\n",
       " '1b',\n",
       " '2',\n",
       " '3',\n",
       " '4',\n",
       " '5',\n",
       " '6a',\n",
       " '6b',\n",
       " '7',\n",
       " '8',\n",
       " '9',\n",
       " '10',\n",
       " '11',\n",
       " '12',\n",
       " '13a',\n",
       " '13b',\n",
       " '14',\n",
       " '15',\n",
       " '16',\n",
       " '17',\n",
       " '18',\n",
       " '19',\n",
       " '20',\n",
       " '21',\n",
       " '22',\n",
       " '23',\n",
       " '24',\n",
       " '25',\n",
       " '26',\n",
       " '27',\n",
       " '28',\n",
       " '29',\n",
       " '30',\n",
       " '31',\n",
       " '32',\n",
       " '33',\n",
       " '34',\n",
       " '35',\n",
       " '36',\n",
       " '37',\n",
       " '38',\n",
       " '39']"
      ]
     },
     "execution_count": 16,
     "metadata": {},
     "output_type": "execute_result"
    }
   ],
   "source": [
    "[_[0] for _ in stations]"
   ]
  },
  {
   "cell_type": "code",
   "execution_count": null,
   "id": "62ca657f-8c9b-48ab-881a-0107b9ed4a6b",
   "metadata": {},
   "outputs": [],
   "source": []
  }
 ],
 "metadata": {
  "kernelspec": {
   "display_name": "Python 3 (ipykernel)",
   "language": "python",
   "name": "python3"
  },
  "language_info": {
   "codemirror_mode": {
    "name": "ipython",
    "version": 3
   },
   "file_extension": ".py",
   "mimetype": "text/x-python",
   "name": "python",
   "nbconvert_exporter": "python",
   "pygments_lexer": "ipython3",
   "version": "3.9.17"
  }
 },
 "nbformat": 4,
 "nbformat_minor": 5
}
